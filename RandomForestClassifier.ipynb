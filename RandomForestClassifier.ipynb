{
 "cells": [
  {
   "cell_type": "code",
   "execution_count": 1,
   "id": "7fc74587",
   "metadata": {
    "execution": {
     "iopub.execute_input": "2024-01-04T11:18:17.319649Z",
     "iopub.status.busy": "2024-01-04T11:18:17.318868Z",
     "iopub.status.idle": "2024-01-04T11:18:19.665851Z",
     "shell.execute_reply": "2024-01-04T11:18:19.664443Z"
    },
    "papermill": {
     "duration": 2.359018,
     "end_time": "2024-01-04T11:18:19.669188",
     "exception": false,
     "start_time": "2024-01-04T11:18:17.310170",
     "status": "completed"
    },
    "tags": []
   },
   "outputs": [],
   "source": [
    "import os\n",
    "import pandas as pd\n",
    "import numpy as np\n",
    "import sklearn\n",
    "from sklearn.model_selection import train_test_split\n",
    "from sklearn.feature_extraction.text import TfidfVectorizer\n",
    "from sklearn.ensemble import RandomForestClassifier"
   ]
  },
  {
   "cell_type": "code",
   "execution_count": 2,
   "id": "7d924996",
   "metadata": {
    "execution": {
     "iopub.execute_input": "2024-01-04T11:18:19.683606Z",
     "iopub.status.busy": "2024-01-04T11:18:19.682790Z",
     "iopub.status.idle": "2024-01-04T11:18:19.814878Z",
     "shell.execute_reply": "2024-01-04T11:18:19.813245Z"
    },
    "papermill": {
     "duration": 0.143038,
     "end_time": "2024-01-04T11:18:19.818285",
     "exception": false,
     "start_time": "2024-01-04T11:18:19.675247",
     "status": "completed"
    },
    "tags": []
   },
   "outputs": [],
   "source": [
    "# LLM Dataset\n",
    "data = pd.read_csv('/kaggle/input/llm-detect-ai-generated-text/train_essays.csv')\n",
    "data = data[[\"text\", \"generated\"]].copy()"
   ]
  },
  {
   "cell_type": "code",
   "execution_count": 3,
   "id": "37605cf6",
   "metadata": {
    "execution": {
     "iopub.execute_input": "2024-01-04T11:18:19.832149Z",
     "iopub.status.busy": "2024-01-04T11:18:19.831671Z",
     "iopub.status.idle": "2024-01-04T11:18:56.007795Z",
     "shell.execute_reply": "2024-01-04T11:18:56.006383Z"
    },
    "papermill": {
     "duration": 36.187304,
     "end_time": "2024-01-04T11:18:56.011405",
     "exception": false,
     "start_time": "2024-01-04T11:18:19.824101",
     "status": "completed"
    },
    "tags": []
   },
   "outputs": [
    {
     "name": "stderr",
     "output_type": "stream",
     "text": [
      "/tmp/ipykernel_19/3124174556.py:1: DtypeWarning: Columns (4) have mixed types. Specify dtype option on import or set low_memory=False.\n",
      "  temp1 = pd.read_csv('/kaggle/input/daigt-external-train-dataset/train_external_drcat_02.csv')\n"
     ]
    }
   ],
   "source": [
    "temp1 = pd.read_csv('/kaggle/input/daigt-external-train-dataset/train_external_drcat_02.csv')\n",
    "temp1 = temp1[[\"text\", \"label\"]].copy()\n",
    "temp1.rename(columns={\"label\": \"generated\"}, inplace=True)\n",
    "temp1.dropna(inplace=True)"
   ]
  },
  {
   "cell_type": "code",
   "execution_count": 4,
   "id": "89734dbc",
   "metadata": {
    "execution": {
     "iopub.execute_input": "2024-01-04T11:18:56.025563Z",
     "iopub.status.busy": "2024-01-04T11:18:56.025055Z",
     "iopub.status.idle": "2024-01-04T11:19:05.319284Z",
     "shell.execute_reply": "2024-01-04T11:19:05.317709Z"
    },
    "papermill": {
     "duration": 9.305399,
     "end_time": "2024-01-04T11:19:05.322701",
     "exception": false,
     "start_time": "2024-01-04T11:18:56.017302",
     "status": "completed"
    },
    "tags": []
   },
   "outputs": [],
   "source": [
    "t1 = pd.read_csv('/kaggle/input/daigt-proper-train-dataset/train_drcat_01.csv')\n",
    "t2 = pd.read_csv('/kaggle/input/daigt-proper-train-dataset/train_drcat_02.csv')\n",
    "t3 = pd.read_csv('/kaggle/input/daigt-proper-train-dataset/train_drcat_03.csv')\n",
    "t4 = pd.read_csv('/kaggle/input/daigt-proper-train-dataset/train_drcat_04.csv')\n",
    "\n",
    "temp2 = pd.concat([t1, t2, t3, t4], ignore_index=True)\n",
    "temp2 = temp2[[\"text\", \"label\"]].copy()\n",
    "temp2.rename(columns={\"label\": \"generated\"}, inplace=True)\n",
    "temp2.dropna(inplace=True)"
   ]
  },
  {
   "cell_type": "code",
   "execution_count": 5,
   "id": "b7b981c8",
   "metadata": {
    "execution": {
     "iopub.execute_input": "2024-01-04T11:19:05.336375Z",
     "iopub.status.busy": "2024-01-04T11:19:05.335947Z",
     "iopub.status.idle": "2024-01-04T11:19:12.552849Z",
     "shell.execute_reply": "2024-01-04T11:19:12.551448Z"
    },
    "papermill": {
     "duration": 7.227598,
     "end_time": "2024-01-04T11:19:12.556153",
     "exception": false,
     "start_time": "2024-01-04T11:19:05.328555",
     "status": "completed"
    },
    "tags": []
   },
   "outputs": [],
   "source": [
    "t1 = pd.read_csv('/kaggle/input/daigt-v3-train-dataset/train_v3_drcat_01.csv')\n",
    "t2 = pd.read_csv('/kaggle/input/daigt-v3-train-dataset/train_v3_drcat_02.csv')\n",
    "\n",
    "temp3 = pd.concat([t1, t2], ignore_index=True)\n",
    "temp3.rename(columns={\"label\": \"generated\"}, inplace=True)\n",
    "temp3.dropna(inplace=True)"
   ]
  },
  {
   "cell_type": "code",
   "execution_count": 6,
   "id": "add8dadb",
   "metadata": {
    "execution": {
     "iopub.execute_input": "2024-01-04T11:19:12.569554Z",
     "iopub.status.busy": "2024-01-04T11:19:12.569091Z",
     "iopub.status.idle": "2024-01-04T11:19:12.599719Z",
     "shell.execute_reply": "2024-01-04T11:19:12.598049Z"
    },
    "papermill": {
     "duration": 0.040979,
     "end_time": "2024-01-04T11:19:12.602855",
     "exception": false,
     "start_time": "2024-01-04T11:19:12.561876",
     "status": "completed"
    },
    "tags": []
   },
   "outputs": [],
   "source": [
    "data = pd.concat([data, temp1, temp2, temp3], ignore_index=True)"
   ]
  },
  {
   "cell_type": "code",
   "execution_count": 7,
   "id": "80b9b709",
   "metadata": {
    "execution": {
     "iopub.execute_input": "2024-01-04T11:19:12.617565Z",
     "iopub.status.busy": "2024-01-04T11:19:12.617085Z",
     "iopub.status.idle": "2024-01-04T11:19:12.684511Z",
     "shell.execute_reply": "2024-01-04T11:19:12.682866Z"
    },
    "papermill": {
     "duration": 0.078778,
     "end_time": "2024-01-04T11:19:12.687826",
     "exception": false,
     "start_time": "2024-01-04T11:19:12.609048",
     "status": "completed"
    },
    "tags": []
   },
   "outputs": [],
   "source": [
    "X_train, X_test, y_train, y_test = train_test_split(data[\"text\"], data[\"generated\"], test_size=0.2)"
   ]
  },
  {
   "cell_type": "code",
   "execution_count": 8,
   "id": "ff58ddec",
   "metadata": {
    "execution": {
     "iopub.execute_input": "2024-01-04T11:19:12.703112Z",
     "iopub.status.busy": "2024-01-04T11:19:12.702604Z",
     "iopub.status.idle": "2024-01-04T11:21:01.082830Z",
     "shell.execute_reply": "2024-01-04T11:21:01.081491Z"
    },
    "papermill": {
     "duration": 108.391108,
     "end_time": "2024-01-04T11:21:01.085881",
     "exception": false,
     "start_time": "2024-01-04T11:19:12.694773",
     "status": "completed"
    },
    "tags": []
   },
   "outputs": [],
   "source": [
    "vectorizer = TfidfVectorizer(max_features=None)\n",
    "X_train_vectorized = vectorizer.fit_transform(X_train)\n",
    "X_test_vectorized = vectorizer.transform(X_test)"
   ]
  },
  {
   "cell_type": "code",
   "execution_count": 9,
   "id": "0418cf44",
   "metadata": {
    "execution": {
     "iopub.execute_input": "2024-01-04T11:21:01.100115Z",
     "iopub.status.busy": "2024-01-04T11:21:01.099517Z",
     "iopub.status.idle": "2024-01-04T11:32:18.886490Z",
     "shell.execute_reply": "2024-01-04T11:32:18.885220Z"
    },
    "papermill": {
     "duration": 677.803132,
     "end_time": "2024-01-04T11:32:18.895212",
     "exception": false,
     "start_time": "2024-01-04T11:21:01.092080",
     "status": "completed"
    },
    "tags": []
   },
   "outputs": [
    {
     "data": {
      "text/html": [
       "<style>#sk-container-id-1 {color: black;background-color: white;}#sk-container-id-1 pre{padding: 0;}#sk-container-id-1 div.sk-toggleable {background-color: white;}#sk-container-id-1 label.sk-toggleable__label {cursor: pointer;display: block;width: 100%;margin-bottom: 0;padding: 0.3em;box-sizing: border-box;text-align: center;}#sk-container-id-1 label.sk-toggleable__label-arrow:before {content: \"▸\";float: left;margin-right: 0.25em;color: #696969;}#sk-container-id-1 label.sk-toggleable__label-arrow:hover:before {color: black;}#sk-container-id-1 div.sk-estimator:hover label.sk-toggleable__label-arrow:before {color: black;}#sk-container-id-1 div.sk-toggleable__content {max-height: 0;max-width: 0;overflow: hidden;text-align: left;background-color: #f0f8ff;}#sk-container-id-1 div.sk-toggleable__content pre {margin: 0.2em;color: black;border-radius: 0.25em;background-color: #f0f8ff;}#sk-container-id-1 input.sk-toggleable__control:checked~div.sk-toggleable__content {max-height: 200px;max-width: 100%;overflow: auto;}#sk-container-id-1 input.sk-toggleable__control:checked~label.sk-toggleable__label-arrow:before {content: \"▾\";}#sk-container-id-1 div.sk-estimator input.sk-toggleable__control:checked~label.sk-toggleable__label {background-color: #d4ebff;}#sk-container-id-1 div.sk-label input.sk-toggleable__control:checked~label.sk-toggleable__label {background-color: #d4ebff;}#sk-container-id-1 input.sk-hidden--visually {border: 0;clip: rect(1px 1px 1px 1px);clip: rect(1px, 1px, 1px, 1px);height: 1px;margin: -1px;overflow: hidden;padding: 0;position: absolute;width: 1px;}#sk-container-id-1 div.sk-estimator {font-family: monospace;background-color: #f0f8ff;border: 1px dotted black;border-radius: 0.25em;box-sizing: border-box;margin-bottom: 0.5em;}#sk-container-id-1 div.sk-estimator:hover {background-color: #d4ebff;}#sk-container-id-1 div.sk-parallel-item::after {content: \"\";width: 100%;border-bottom: 1px solid gray;flex-grow: 1;}#sk-container-id-1 div.sk-label:hover label.sk-toggleable__label {background-color: #d4ebff;}#sk-container-id-1 div.sk-serial::before {content: \"\";position: absolute;border-left: 1px solid gray;box-sizing: border-box;top: 0;bottom: 0;left: 50%;z-index: 0;}#sk-container-id-1 div.sk-serial {display: flex;flex-direction: column;align-items: center;background-color: white;padding-right: 0.2em;padding-left: 0.2em;position: relative;}#sk-container-id-1 div.sk-item {position: relative;z-index: 1;}#sk-container-id-1 div.sk-parallel {display: flex;align-items: stretch;justify-content: center;background-color: white;position: relative;}#sk-container-id-1 div.sk-item::before, #sk-container-id-1 div.sk-parallel-item::before {content: \"\";position: absolute;border-left: 1px solid gray;box-sizing: border-box;top: 0;bottom: 0;left: 50%;z-index: -1;}#sk-container-id-1 div.sk-parallel-item {display: flex;flex-direction: column;z-index: 1;position: relative;background-color: white;}#sk-container-id-1 div.sk-parallel-item:first-child::after {align-self: flex-end;width: 50%;}#sk-container-id-1 div.sk-parallel-item:last-child::after {align-self: flex-start;width: 50%;}#sk-container-id-1 div.sk-parallel-item:only-child::after {width: 0;}#sk-container-id-1 div.sk-dashed-wrapped {border: 1px dashed gray;margin: 0 0.4em 0.5em 0.4em;box-sizing: border-box;padding-bottom: 0.4em;background-color: white;}#sk-container-id-1 div.sk-label label {font-family: monospace;font-weight: bold;display: inline-block;line-height: 1.2em;}#sk-container-id-1 div.sk-label-container {text-align: center;}#sk-container-id-1 div.sk-container {/* jupyter's `normalize.less` sets `[hidden] { display: none; }` but bootstrap.min.css set `[hidden] { display: none !important; }` so we also need the `!important` here to be able to override the default hidden behavior on the sphinx rendered scikit-learn.org. See: https://github.com/scikit-learn/scikit-learn/issues/21755 */display: inline-block !important;position: relative;}#sk-container-id-1 div.sk-text-repr-fallback {display: none;}</style><div id=\"sk-container-id-1\" class=\"sk-top-container\"><div class=\"sk-text-repr-fallback\"><pre>RandomForestClassifier()</pre><b>In a Jupyter environment, please rerun this cell to show the HTML representation or trust the notebook. <br />On GitHub, the HTML representation is unable to render, please try loading this page with nbviewer.org.</b></div><div class=\"sk-container\" hidden><div class=\"sk-item\"><div class=\"sk-estimator sk-toggleable\"><input class=\"sk-toggleable__control sk-hidden--visually\" id=\"sk-estimator-id-1\" type=\"checkbox\" checked><label for=\"sk-estimator-id-1\" class=\"sk-toggleable__label sk-toggleable__label-arrow\">RandomForestClassifier</label><div class=\"sk-toggleable__content\"><pre>RandomForestClassifier()</pre></div></div></div></div></div>"
      ],
      "text/plain": [
       "RandomForestClassifier()"
      ]
     },
     "execution_count": 9,
     "metadata": {},
     "output_type": "execute_result"
    }
   ],
   "source": [
    "model = RandomForestClassifier(n_estimators=100)\n",
    "model.fit(X_train_vectorized, y_train)"
   ]
  },
  {
   "cell_type": "code",
   "execution_count": 10,
   "id": "22892dc5",
   "metadata": {
    "execution": {
     "iopub.execute_input": "2024-01-04T11:32:18.910345Z",
     "iopub.status.busy": "2024-01-04T11:32:18.909168Z",
     "iopub.status.idle": "2024-01-04T11:32:25.156714Z",
     "shell.execute_reply": "2024-01-04T11:32:25.155045Z"
    },
    "papermill": {
     "duration": 6.258542,
     "end_time": "2024-01-04T11:32:25.159843",
     "exception": false,
     "start_time": "2024-01-04T11:32:18.901301",
     "status": "completed"
    },
    "tags": []
   },
   "outputs": [
    {
     "name": "stdout",
     "output_type": "stream",
     "text": [
      "Accuracy: 0.9945105607376434\n"
     ]
    }
   ],
   "source": [
    "accuracy = model.score(X_test_vectorized, y_test)\n",
    "print(f\"Accuracy: {accuracy}\")"
   ]
  },
  {
   "cell_type": "code",
   "execution_count": 11,
   "id": "781e7275",
   "metadata": {
    "execution": {
     "iopub.execute_input": "2024-01-04T11:32:25.175084Z",
     "iopub.status.busy": "2024-01-04T11:32:25.174588Z",
     "iopub.status.idle": "2024-01-04T11:32:25.198433Z",
     "shell.execute_reply": "2024-01-04T11:32:25.197181Z"
    },
    "papermill": {
     "duration": 0.035649,
     "end_time": "2024-01-04T11:32:25.201595",
     "exception": false,
     "start_time": "2024-01-04T11:32:25.165946",
     "status": "completed"
    },
    "tags": []
   },
   "outputs": [],
   "source": [
    "input_data = pd.read_csv('/kaggle/input/llm-detect-ai-generated-text/test_essays.csv')\n",
    "input_data = input_data[[\"id\", \"text\"]].copy()"
   ]
  },
  {
   "cell_type": "code",
   "execution_count": 12,
   "id": "50d5578d",
   "metadata": {
    "execution": {
     "iopub.execute_input": "2024-01-04T11:32:25.215945Z",
     "iopub.status.busy": "2024-01-04T11:32:25.215455Z",
     "iopub.status.idle": "2024-01-04T11:32:25.235672Z",
     "shell.execute_reply": "2024-01-04T11:32:25.234327Z"
    },
    "papermill": {
     "duration": 0.030934,
     "end_time": "2024-01-04T11:32:25.238766",
     "exception": false,
     "start_time": "2024-01-04T11:32:25.207832",
     "status": "completed"
    },
    "tags": []
   },
   "outputs": [],
   "source": [
    "model_input = vectorizer.transform(input_data[\"text\"])\n",
    "pred = model.predict_proba(model_input)\n",
    "pred = pred[:, 1]"
   ]
  },
  {
   "cell_type": "code",
   "execution_count": 13,
   "id": "6b03a354",
   "metadata": {
    "execution": {
     "iopub.execute_input": "2024-01-04T11:32:25.254529Z",
     "iopub.status.busy": "2024-01-04T11:32:25.254066Z",
     "iopub.status.idle": "2024-01-04T11:32:25.264907Z",
     "shell.execute_reply": "2024-01-04T11:32:25.263597Z"
    },
    "papermill": {
     "duration": 0.022118,
     "end_time": "2024-01-04T11:32:25.267807",
     "exception": false,
     "start_time": "2024-01-04T11:32:25.245689",
     "status": "completed"
    },
    "tags": []
   },
   "outputs": [],
   "source": [
    "output_df = pd.DataFrame({\n",
    "    \"id\": input_data[\"id\"],\n",
    "    \"generated\": pred\n",
    "})\n",
    "output_df.to_csv('/kaggle/working/submission.csv', index=False)"
   ]
  }
 ],
 "metadata": {
  "kaggle": {
   "accelerator": "none",
   "dataSources": [
    {
     "databundleVersionId": 6888007,
     "sourceId": 61542,
     "sourceType": "competition"
    },
    {
     "datasetId": 3942644,
     "sourceId": 6890527,
     "sourceType": "datasetVersion"
    },
    {
     "datasetId": 3960967,
     "sourceId": 6901341,
     "sourceType": "datasetVersion"
    },
    {
     "datasetId": 4210720,
     "sourceId": 7294503,
     "sourceType": "datasetVersion"
    }
   ],
   "dockerImageVersionId": 30626,
   "isGpuEnabled": false,
   "isInternetEnabled": false,
   "language": "python",
   "sourceType": "notebook"
  },
  "kernelspec": {
   "display_name": "Python 3",
   "language": "python",
   "name": "python3"
  },
  "language_info": {
   "codemirror_mode": {
    "name": "ipython",
    "version": 3
   },
   "file_extension": ".py",
   "mimetype": "text/x-python",
   "name": "python",
   "nbconvert_exporter": "python",
   "pygments_lexer": "ipython3",
   "version": "3.10.12"
  },
  "papermill": {
   "default_parameters": {},
   "duration": 852.753794,
   "end_time": "2024-01-04T11:32:26.302004",
   "environment_variables": {},
   "exception": null,
   "input_path": "__notebook__.ipynb",
   "output_path": "__notebook__.ipynb",
   "parameters": {},
   "start_time": "2024-01-04T11:18:13.548210",
   "version": "2.4.0"
  }
 },
 "nbformat": 4,
 "nbformat_minor": 5
}
