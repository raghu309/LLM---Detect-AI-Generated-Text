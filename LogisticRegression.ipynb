{
 "cells": [
  {
   "cell_type": "code",
   "execution_count": 1,
   "id": "8cf4beea",
   "metadata": {
    "execution": {
     "iopub.execute_input": "2024-01-03T10:04:36.444951Z",
     "iopub.status.busy": "2024-01-03T10:04:36.444325Z",
     "iopub.status.idle": "2024-01-03T10:04:38.576665Z",
     "shell.execute_reply": "2024-01-03T10:04:38.574877Z"
    },
    "papermill": {
     "duration": 2.143227,
     "end_time": "2024-01-03T10:04:38.579701",
     "exception": false,
     "start_time": "2024-01-03T10:04:36.436474",
     "status": "completed"
    },
    "tags": []
   },
   "outputs": [],
   "source": [
    "import os\n",
    "import pandas as pd\n",
    "import numpy as np\n",
    "import sklearn\n",
    "from sklearn.model_selection import train_test_split\n",
    "from sklearn.feature_extraction.text import TfidfVectorizer\n",
    "from sklearn.linear_model import LogisticRegression"
   ]
  },
  {
   "cell_type": "code",
   "execution_count": 2,
   "id": "f128e171",
   "metadata": {
    "execution": {
     "iopub.execute_input": "2024-01-03T10:04:38.594267Z",
     "iopub.status.busy": "2024-01-03T10:04:38.592509Z",
     "iopub.status.idle": "2024-01-03T10:04:38.737748Z",
     "shell.execute_reply": "2024-01-03T10:04:38.735177Z"
    },
    "papermill": {
     "duration": 0.158301,
     "end_time": "2024-01-03T10:04:38.743789",
     "exception": false,
     "start_time": "2024-01-03T10:04:38.585488",
     "status": "completed"
    },
    "tags": []
   },
   "outputs": [],
   "source": [
    "# LLM Dataset\n",
    "data = pd.read_csv('/kaggle/input/llm-detect-ai-generated-text/train_essays.csv')\n",
    "data = data[[\"text\", \"generated\"]].copy()"
   ]
  },
  {
   "cell_type": "code",
   "execution_count": 3,
   "id": "d7bbe65f",
   "metadata": {
    "execution": {
     "iopub.execute_input": "2024-01-03T10:04:38.761871Z",
     "iopub.status.busy": "2024-01-03T10:04:38.760678Z",
     "iopub.status.idle": "2024-01-03T10:05:16.540307Z",
     "shell.execute_reply": "2024-01-03T10:05:16.539134Z"
    },
    "papermill": {
     "duration": 37.794054,
     "end_time": "2024-01-03T10:05:16.547490",
     "exception": false,
     "start_time": "2024-01-03T10:04:38.753436",
     "status": "completed"
    },
    "tags": []
   },
   "outputs": [
    {
     "name": "stderr",
     "output_type": "stream",
     "text": [
      "/tmp/ipykernel_19/3124174556.py:1: DtypeWarning: Columns (4) have mixed types. Specify dtype option on import or set low_memory=False.\n",
      "  temp1 = pd.read_csv('/kaggle/input/daigt-external-train-dataset/train_external_drcat_02.csv')\n"
     ]
    }
   ],
   "source": [
    "temp1 = pd.read_csv('/kaggle/input/daigt-external-train-dataset/train_external_drcat_02.csv')\n",
    "temp1 = temp1[[\"text\", \"label\"]].copy()\n",
    "temp1.rename(columns={\"label\": \"generated\"}, inplace=True)\n",
    "temp1.dropna(inplace=True)"
   ]
  },
  {
   "cell_type": "code",
   "execution_count": 4,
   "id": "04e1f734",
   "metadata": {
    "execution": {
     "iopub.execute_input": "2024-01-03T10:05:16.560014Z",
     "iopub.status.busy": "2024-01-03T10:05:16.559555Z",
     "iopub.status.idle": "2024-01-03T10:05:26.291724Z",
     "shell.execute_reply": "2024-01-03T10:05:26.290522Z"
    },
    "papermill": {
     "duration": 9.742179,
     "end_time": "2024-01-03T10:05:26.294875",
     "exception": false,
     "start_time": "2024-01-03T10:05:16.552696",
     "status": "completed"
    },
    "tags": []
   },
   "outputs": [],
   "source": [
    "t1 = pd.read_csv('/kaggle/input/daigt-proper-train-dataset/train_drcat_01.csv')\n",
    "t2 = pd.read_csv('/kaggle/input/daigt-proper-train-dataset/train_drcat_02.csv')\n",
    "t3 = pd.read_csv('/kaggle/input/daigt-proper-train-dataset/train_drcat_03.csv')\n",
    "t4 = pd.read_csv('/kaggle/input/daigt-proper-train-dataset/train_drcat_04.csv')\n",
    "\n",
    "temp2 = pd.concat([t1, t2, t3, t4], ignore_index=True)\n",
    "temp2 = temp2[[\"text\", \"label\"]].copy()\n",
    "temp2.rename(columns={\"label\": \"generated\"}, inplace=True)\n",
    "temp2.dropna(inplace=True)"
   ]
  },
  {
   "cell_type": "code",
   "execution_count": 5,
   "id": "b7d25f2a",
   "metadata": {
    "execution": {
     "iopub.execute_input": "2024-01-03T10:05:26.308283Z",
     "iopub.status.busy": "2024-01-03T10:05:26.307785Z",
     "iopub.status.idle": "2024-01-03T10:05:33.822565Z",
     "shell.execute_reply": "2024-01-03T10:05:33.821370Z"
    },
    "papermill": {
     "duration": 7.524828,
     "end_time": "2024-01-03T10:05:33.825415",
     "exception": false,
     "start_time": "2024-01-03T10:05:26.300587",
     "status": "completed"
    },
    "tags": []
   },
   "outputs": [],
   "source": [
    "t1 = pd.read_csv('/kaggle/input/daigt-v3-train-dataset/train_v3_drcat_01.csv')\n",
    "t2 = pd.read_csv('/kaggle/input/daigt-v3-train-dataset/train_v3_drcat_02.csv')\n",
    "\n",
    "temp3 = pd.concat([t1, t2], ignore_index=True)\n",
    "temp3.rename(columns={\"label\": \"generated\"}, inplace=True)\n",
    "temp3.dropna(inplace=True)"
   ]
  },
  {
   "cell_type": "code",
   "execution_count": 6,
   "id": "b172307e",
   "metadata": {
    "execution": {
     "iopub.execute_input": "2024-01-03T10:05:33.838020Z",
     "iopub.status.busy": "2024-01-03T10:05:33.837608Z",
     "iopub.status.idle": "2024-01-03T10:05:33.861815Z",
     "shell.execute_reply": "2024-01-03T10:05:33.860755Z"
    },
    "papermill": {
     "duration": 0.033653,
     "end_time": "2024-01-03T10:05:33.864509",
     "exception": false,
     "start_time": "2024-01-03T10:05:33.830856",
     "status": "completed"
    },
    "tags": []
   },
   "outputs": [],
   "source": [
    "data = pd.concat([data, temp1, temp2, temp3], ignore_index=True)"
   ]
  },
  {
   "cell_type": "code",
   "execution_count": 7,
   "id": "abcc8fbe",
   "metadata": {
    "execution": {
     "iopub.execute_input": "2024-01-03T10:05:33.877292Z",
     "iopub.status.busy": "2024-01-03T10:05:33.876810Z",
     "iopub.status.idle": "2024-01-03T10:05:33.926497Z",
     "shell.execute_reply": "2024-01-03T10:05:33.925508Z"
    },
    "papermill": {
     "duration": 0.05902,
     "end_time": "2024-01-03T10:05:33.929061",
     "exception": false,
     "start_time": "2024-01-03T10:05:33.870041",
     "status": "completed"
    },
    "tags": []
   },
   "outputs": [],
   "source": [
    "X_train, X_test, y_train, y_test = train_test_split(data[\"text\"], data[\"generated\"], test_size=0.2)"
   ]
  },
  {
   "cell_type": "code",
   "execution_count": 8,
   "id": "35854de9",
   "metadata": {
    "execution": {
     "iopub.execute_input": "2024-01-03T10:05:33.942241Z",
     "iopub.status.busy": "2024-01-03T10:05:33.941591Z",
     "iopub.status.idle": "2024-01-03T10:07:23.914851Z",
     "shell.execute_reply": "2024-01-03T10:07:23.913478Z"
    },
    "papermill": {
     "duration": 109.983292,
     "end_time": "2024-01-03T10:07:23.917949",
     "exception": false,
     "start_time": "2024-01-03T10:05:33.934657",
     "status": "completed"
    },
    "tags": []
   },
   "outputs": [],
   "source": [
    "vectorizer = TfidfVectorizer(max_features=100000)\n",
    "X_train_vectorized = vectorizer.fit_transform(X_train)\n",
    "X_test_vectorized = vectorizer.transform(X_test)"
   ]
  },
  {
   "cell_type": "code",
   "execution_count": 9,
   "id": "ef2b0561",
   "metadata": {
    "execution": {
     "iopub.execute_input": "2024-01-03T10:07:23.931463Z",
     "iopub.status.busy": "2024-01-03T10:07:23.931066Z",
     "iopub.status.idle": "2024-01-03T10:08:07.195041Z",
     "shell.execute_reply": "2024-01-03T10:08:07.193340Z"
    },
    "papermill": {
     "duration": 43.281132,
     "end_time": "2024-01-03T10:08:07.204841",
     "exception": false,
     "start_time": "2024-01-03T10:07:23.923709",
     "status": "completed"
    },
    "tags": []
   },
   "outputs": [
    {
     "data": {
      "text/html": [
       "<style>#sk-container-id-1 {color: black;background-color: white;}#sk-container-id-1 pre{padding: 0;}#sk-container-id-1 div.sk-toggleable {background-color: white;}#sk-container-id-1 label.sk-toggleable__label {cursor: pointer;display: block;width: 100%;margin-bottom: 0;padding: 0.3em;box-sizing: border-box;text-align: center;}#sk-container-id-1 label.sk-toggleable__label-arrow:before {content: \"▸\";float: left;margin-right: 0.25em;color: #696969;}#sk-container-id-1 label.sk-toggleable__label-arrow:hover:before {color: black;}#sk-container-id-1 div.sk-estimator:hover label.sk-toggleable__label-arrow:before {color: black;}#sk-container-id-1 div.sk-toggleable__content {max-height: 0;max-width: 0;overflow: hidden;text-align: left;background-color: #f0f8ff;}#sk-container-id-1 div.sk-toggleable__content pre {margin: 0.2em;color: black;border-radius: 0.25em;background-color: #f0f8ff;}#sk-container-id-1 input.sk-toggleable__control:checked~div.sk-toggleable__content {max-height: 200px;max-width: 100%;overflow: auto;}#sk-container-id-1 input.sk-toggleable__control:checked~label.sk-toggleable__label-arrow:before {content: \"▾\";}#sk-container-id-1 div.sk-estimator input.sk-toggleable__control:checked~label.sk-toggleable__label {background-color: #d4ebff;}#sk-container-id-1 div.sk-label input.sk-toggleable__control:checked~label.sk-toggleable__label {background-color: #d4ebff;}#sk-container-id-1 input.sk-hidden--visually {border: 0;clip: rect(1px 1px 1px 1px);clip: rect(1px, 1px, 1px, 1px);height: 1px;margin: -1px;overflow: hidden;padding: 0;position: absolute;width: 1px;}#sk-container-id-1 div.sk-estimator {font-family: monospace;background-color: #f0f8ff;border: 1px dotted black;border-radius: 0.25em;box-sizing: border-box;margin-bottom: 0.5em;}#sk-container-id-1 div.sk-estimator:hover {background-color: #d4ebff;}#sk-container-id-1 div.sk-parallel-item::after {content: \"\";width: 100%;border-bottom: 1px solid gray;flex-grow: 1;}#sk-container-id-1 div.sk-label:hover label.sk-toggleable__label {background-color: #d4ebff;}#sk-container-id-1 div.sk-serial::before {content: \"\";position: absolute;border-left: 1px solid gray;box-sizing: border-box;top: 0;bottom: 0;left: 50%;z-index: 0;}#sk-container-id-1 div.sk-serial {display: flex;flex-direction: column;align-items: center;background-color: white;padding-right: 0.2em;padding-left: 0.2em;position: relative;}#sk-container-id-1 div.sk-item {position: relative;z-index: 1;}#sk-container-id-1 div.sk-parallel {display: flex;align-items: stretch;justify-content: center;background-color: white;position: relative;}#sk-container-id-1 div.sk-item::before, #sk-container-id-1 div.sk-parallel-item::before {content: \"\";position: absolute;border-left: 1px solid gray;box-sizing: border-box;top: 0;bottom: 0;left: 50%;z-index: -1;}#sk-container-id-1 div.sk-parallel-item {display: flex;flex-direction: column;z-index: 1;position: relative;background-color: white;}#sk-container-id-1 div.sk-parallel-item:first-child::after {align-self: flex-end;width: 50%;}#sk-container-id-1 div.sk-parallel-item:last-child::after {align-self: flex-start;width: 50%;}#sk-container-id-1 div.sk-parallel-item:only-child::after {width: 0;}#sk-container-id-1 div.sk-dashed-wrapped {border: 1px dashed gray;margin: 0 0.4em 0.5em 0.4em;box-sizing: border-box;padding-bottom: 0.4em;background-color: white;}#sk-container-id-1 div.sk-label label {font-family: monospace;font-weight: bold;display: inline-block;line-height: 1.2em;}#sk-container-id-1 div.sk-label-container {text-align: center;}#sk-container-id-1 div.sk-container {/* jupyter's `normalize.less` sets `[hidden] { display: none; }` but bootstrap.min.css set `[hidden] { display: none !important; }` so we also need the `!important` here to be able to override the default hidden behavior on the sphinx rendered scikit-learn.org. See: https://github.com/scikit-learn/scikit-learn/issues/21755 */display: inline-block !important;position: relative;}#sk-container-id-1 div.sk-text-repr-fallback {display: none;}</style><div id=\"sk-container-id-1\" class=\"sk-top-container\"><div class=\"sk-text-repr-fallback\"><pre>LogisticRegression(max_iter=1000000)</pre><b>In a Jupyter environment, please rerun this cell to show the HTML representation or trust the notebook. <br />On GitHub, the HTML representation is unable to render, please try loading this page with nbviewer.org.</b></div><div class=\"sk-container\" hidden><div class=\"sk-item\"><div class=\"sk-estimator sk-toggleable\"><input class=\"sk-toggleable__control sk-hidden--visually\" id=\"sk-estimator-id-1\" type=\"checkbox\" checked><label for=\"sk-estimator-id-1\" class=\"sk-toggleable__label sk-toggleable__label-arrow\">LogisticRegression</label><div class=\"sk-toggleable__content\"><pre>LogisticRegression(max_iter=1000000)</pre></div></div></div></div></div>"
      ],
      "text/plain": [
       "LogisticRegression(max_iter=1000000)"
      ]
     },
     "execution_count": 9,
     "metadata": {},
     "output_type": "execute_result"
    }
   ],
   "source": [
    "model = LogisticRegression(max_iter=1000000)\n",
    "model.fit(X_train_vectorized, y_train)"
   ]
  },
  {
   "cell_type": "code",
   "execution_count": 10,
   "id": "706c54f4",
   "metadata": {
    "execution": {
     "iopub.execute_input": "2024-01-03T10:08:07.234316Z",
     "iopub.status.busy": "2024-01-03T10:08:07.233497Z",
     "iopub.status.idle": "2024-01-03T10:08:07.295692Z",
     "shell.execute_reply": "2024-01-03T10:08:07.294463Z"
    },
    "papermill": {
     "duration": 0.0807,
     "end_time": "2024-01-03T10:08:07.298375",
     "exception": false,
     "start_time": "2024-01-03T10:08:07.217675",
     "status": "completed"
    },
    "tags": []
   },
   "outputs": [
    {
     "name": "stdout",
     "output_type": "stream",
     "text": [
      "Accuracy: 0.9926235659912083\n"
     ]
    }
   ],
   "source": [
    "accuracy = model.score(X_test_vectorized, y_test)\n",
    "print(f\"Accuracy: {accuracy}\")"
   ]
  },
  {
   "cell_type": "code",
   "execution_count": 11,
   "id": "5d20144b",
   "metadata": {
    "execution": {
     "iopub.execute_input": "2024-01-03T10:08:07.312192Z",
     "iopub.status.busy": "2024-01-03T10:08:07.311431Z",
     "iopub.status.idle": "2024-01-03T10:08:07.327326Z",
     "shell.execute_reply": "2024-01-03T10:08:07.325812Z"
    },
    "papermill": {
     "duration": 0.026185,
     "end_time": "2024-01-03T10:08:07.330423",
     "exception": false,
     "start_time": "2024-01-03T10:08:07.304238",
     "status": "completed"
    },
    "tags": []
   },
   "outputs": [],
   "source": [
    "input_data = pd.read_csv('/kaggle/input/llm-detect-ai-generated-text/test_essays.csv')\n",
    "input_data = input_data[[\"id\", \"text\"]].copy()"
   ]
  },
  {
   "cell_type": "code",
   "execution_count": 12,
   "id": "1227a9c5",
   "metadata": {
    "execution": {
     "iopub.execute_input": "2024-01-03T10:08:07.344997Z",
     "iopub.status.busy": "2024-01-03T10:08:07.344150Z",
     "iopub.status.idle": "2024-01-03T10:08:07.353361Z",
     "shell.execute_reply": "2024-01-03T10:08:07.351650Z"
    },
    "papermill": {
     "duration": 0.019654,
     "end_time": "2024-01-03T10:08:07.356383",
     "exception": false,
     "start_time": "2024-01-03T10:08:07.336729",
     "status": "completed"
    },
    "tags": []
   },
   "outputs": [],
   "source": [
    "model_input = vectorizer.transform(input_data[\"text\"])\n",
    "pred = model.predict(model_input)"
   ]
  },
  {
   "cell_type": "code",
   "execution_count": 13,
   "id": "11f4c86f",
   "metadata": {
    "execution": {
     "iopub.execute_input": "2024-01-03T10:08:07.370574Z",
     "iopub.status.busy": "2024-01-03T10:08:07.369677Z",
     "iopub.status.idle": "2024-01-03T10:08:07.380479Z",
     "shell.execute_reply": "2024-01-03T10:08:07.379261Z"
    },
    "papermill": {
     "duration": 0.020922,
     "end_time": "2024-01-03T10:08:07.383407",
     "exception": false,
     "start_time": "2024-01-03T10:08:07.362485",
     "status": "completed"
    },
    "tags": []
   },
   "outputs": [],
   "source": [
    "output_df = pd.DataFrame({\n",
    "    \"id\": input_data[\"id\"],\n",
    "    \"generated\": pred\n",
    "})\n",
    "output_df.to_csv('/kaggle/working/submission.csv', index=False)"
   ]
  }
 ],
 "metadata": {
  "kaggle": {
   "accelerator": "none",
   "dataSources": [
    {
     "databundleVersionId": 6888007,
     "sourceId": 61542,
     "sourceType": "competition"
    },
    {
     "datasetId": 3942644,
     "sourceId": 6890527,
     "sourceType": "datasetVersion"
    },
    {
     "datasetId": 3960967,
     "sourceId": 6901341,
     "sourceType": "datasetVersion"
    },
    {
     "datasetId": 4210720,
     "sourceId": 7294503,
     "sourceType": "datasetVersion"
    }
   ],
   "dockerImageVersionId": 30626,
   "isGpuEnabled": false,
   "isInternetEnabled": false,
   "language": "python",
   "sourceType": "notebook"
  },
  "kernelspec": {
   "display_name": "Python 3",
   "language": "python",
   "name": "python3"
  },
  "language_info": {
   "codemirror_mode": {
    "name": "ipython",
    "version": 3
   },
   "file_extension": ".py",
   "mimetype": "text/x-python",
   "name": "python",
   "nbconvert_exporter": "python",
   "pygments_lexer": "ipython3",
   "version": "3.10.12"
  },
  "papermill": {
   "default_parameters": {},
   "duration": 215.408604,
   "end_time": "2024-01-03T10:08:08.313346",
   "environment_variables": {},
   "exception": null,
   "input_path": "__notebook__.ipynb",
   "output_path": "__notebook__.ipynb",
   "parameters": {},
   "start_time": "2024-01-03T10:04:32.904742",
   "version": "2.4.0"
  }
 },
 "nbformat": 4,
 "nbformat_minor": 5
}
