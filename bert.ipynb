{
 "cells": [
  {
   "cell_type": "code",
   "execution_count": 1,
   "id": "b93871a2",
   "metadata": {
    "_cell_guid": "b1076dfc-b9ad-4769-8c92-a6c4dae69d19",
    "_uuid": "8f2839f25d086af736a60e9eeb907d3b93b6e0e5",
    "execution": {
     "iopub.execute_input": "2024-01-06T06:55:35.341485Z",
     "iopub.status.busy": "2024-01-06T06:55:35.340588Z",
     "iopub.status.idle": "2024-01-06T06:55:36.594543Z",
     "shell.execute_reply": "2024-01-06T06:55:36.593609Z"
    },
    "papermill": {
     "duration": 1.267887,
     "end_time": "2024-01-06T06:55:36.596990",
     "exception": false,
     "start_time": "2024-01-06T06:55:35.329103",
     "status": "completed"
    },
    "tags": []
   },
   "outputs": [],
   "source": [
    "import os\n",
    "import pandas as pd\n",
    "import numpy as np"
   ]
  },
  {
   "cell_type": "markdown",
   "id": "61743f85",
   "metadata": {
    "papermill": {
     "duration": 0.008893,
     "end_time": "2024-01-06T06:55:36.616106",
     "exception": false,
     "start_time": "2024-01-06T06:55:36.607213",
     "status": "completed"
    },
    "tags": []
   },
   "source": [
    "# Getting the data ready"
   ]
  },
  {
   "cell_type": "code",
   "execution_count": 2,
   "id": "85e5a99d",
   "metadata": {
    "execution": {
     "iopub.execute_input": "2024-01-06T06:55:36.636334Z",
     "iopub.status.busy": "2024-01-06T06:55:36.635543Z",
     "iopub.status.idle": "2024-01-06T06:55:36.760252Z",
     "shell.execute_reply": "2024-01-06T06:55:36.759415Z"
    },
    "papermill": {
     "duration": 0.137099,
     "end_time": "2024-01-06T06:55:36.762697",
     "exception": false,
     "start_time": "2024-01-06T06:55:36.625598",
     "status": "completed"
    },
    "tags": []
   },
   "outputs": [],
   "source": [
    "# LLM Dataset\n",
    "data = pd.read_csv('/kaggle/input/llm-detect-ai-generated-text/train_essays.csv')\n",
    "data = data[[\"text\", \"generated\"]].copy()"
   ]
  },
  {
   "cell_type": "markdown",
   "id": "15aed7e9",
   "metadata": {
    "papermill": {
     "duration": 0.009308,
     "end_time": "2024-01-06T06:55:36.782104",
     "exception": false,
     "start_time": "2024-01-06T06:55:36.772796",
     "status": "completed"
    },
    "tags": []
   },
   "source": [
    "## Adding more data from Custom Datasets"
   ]
  },
  {
   "cell_type": "code",
   "execution_count": 3,
   "id": "dc5ab39b",
   "metadata": {
    "execution": {
     "iopub.execute_input": "2024-01-06T06:55:36.802811Z",
     "iopub.status.busy": "2024-01-06T06:55:36.802468Z",
     "iopub.status.idle": "2024-01-06T06:56:08.199483Z",
     "shell.execute_reply": "2024-01-06T06:56:08.198431Z"
    },
    "papermill": {
     "duration": 31.419493,
     "end_time": "2024-01-06T06:56:08.211326",
     "exception": false,
     "start_time": "2024-01-06T06:55:36.791833",
     "status": "completed"
    },
    "tags": []
   },
   "outputs": [
    {
     "name": "stderr",
     "output_type": "stream",
     "text": [
      "/tmp/ipykernel_27/3124174556.py:1: DtypeWarning: Columns (4) have mixed types. Specify dtype option on import or set low_memory=False.\n",
      "  temp1 = pd.read_csv('/kaggle/input/daigt-external-train-dataset/train_external_drcat_02.csv')\n"
     ]
    }
   ],
   "source": [
    "temp1 = pd.read_csv('/kaggle/input/daigt-external-train-dataset/train_external_drcat_02.csv')\n",
    "temp1 = temp1[[\"text\", \"label\"]].copy()\n",
    "temp1.rename(columns={\"label\": \"generated\"}, inplace=True)\n",
    "temp1.dropna(inplace=True)"
   ]
  },
  {
   "cell_type": "code",
   "execution_count": 4,
   "id": "5ac55370",
   "metadata": {
    "execution": {
     "iopub.execute_input": "2024-01-06T06:56:08.232179Z",
     "iopub.status.busy": "2024-01-06T06:56:08.231814Z",
     "iopub.status.idle": "2024-01-06T06:56:16.633101Z",
     "shell.execute_reply": "2024-01-06T06:56:16.632137Z"
    },
    "papermill": {
     "duration": 8.414374,
     "end_time": "2024-01-06T06:56:16.635532",
     "exception": false,
     "start_time": "2024-01-06T06:56:08.221158",
     "status": "completed"
    },
    "tags": []
   },
   "outputs": [],
   "source": [
    "t1 = pd.read_csv('/kaggle/input/daigt-proper-train-dataset/train_drcat_01.csv')\n",
    "t2 = pd.read_csv('/kaggle/input/daigt-proper-train-dataset/train_drcat_02.csv')\n",
    "t3 = pd.read_csv('/kaggle/input/daigt-proper-train-dataset/train_drcat_03.csv')\n",
    "t4 = pd.read_csv('/kaggle/input/daigt-proper-train-dataset/train_drcat_04.csv')\n",
    "\n",
    "temp2 = pd.concat([t1, t2, t3, t4], ignore_index=True)\n",
    "temp2 = temp2[[\"text\", \"label\"]].copy()\n",
    "temp2.rename(columns={\"label\": \"generated\"}, inplace=True)\n",
    "temp2.dropna(inplace=True)"
   ]
  },
  {
   "cell_type": "code",
   "execution_count": 5,
   "id": "1ef29b2e",
   "metadata": {
    "execution": {
     "iopub.execute_input": "2024-01-06T06:56:16.656369Z",
     "iopub.status.busy": "2024-01-06T06:56:16.655782Z",
     "iopub.status.idle": "2024-01-06T06:56:23.107408Z",
     "shell.execute_reply": "2024-01-06T06:56:23.106592Z"
    },
    "papermill": {
     "duration": 6.464599,
     "end_time": "2024-01-06T06:56:23.109802",
     "exception": false,
     "start_time": "2024-01-06T06:56:16.645203",
     "status": "completed"
    },
    "tags": []
   },
   "outputs": [],
   "source": [
    "t1 = pd.read_csv('/kaggle/input/daigt-v3-train-dataset/train_v3_drcat_01.csv')\n",
    "t2 = pd.read_csv('/kaggle/input/daigt-v3-train-dataset/train_v3_drcat_02.csv')\n",
    "\n",
    "temp3 = pd.concat([t1, t2], ignore_index=True)\n",
    "temp3 = temp3[[\"text\", \"label\"]].copy()\n",
    "temp3.rename(columns={\"label\": \"generated\"}, inplace=True)\n",
    "temp3.dropna(inplace=True)"
   ]
  },
  {
   "cell_type": "code",
   "execution_count": 6,
   "id": "4b6fed3a",
   "metadata": {
    "execution": {
     "iopub.execute_input": "2024-01-06T06:56:23.131188Z",
     "iopub.status.busy": "2024-01-06T06:56:23.130348Z",
     "iopub.status.idle": "2024-01-06T06:56:46.270171Z",
     "shell.execute_reply": "2024-01-06T06:56:46.269116Z"
    },
    "papermill": {
     "duration": 23.152999,
     "end_time": "2024-01-06T06:56:46.272797",
     "exception": false,
     "start_time": "2024-01-06T06:56:23.119798",
     "status": "completed"
    },
    "tags": []
   },
   "outputs": [],
   "source": [
    "t1 = pd.read_csv('/kaggle/input/augmented-data-for-llm-detect-ai-generated-text/final_test.csv')\n",
    "t2 = pd.read_csv('/kaggle/input/augmented-data-for-llm-detect-ai-generated-text/final_train.csv')\n",
    "\n",
    "temp4 = pd.concat([t1, t2], ignore_index=True)\n",
    "temp4.rename(columns={\"label\": \"generated\"}, inplace=True)\n",
    "temp4.dropna(inplace=True)"
   ]
  },
  {
   "cell_type": "code",
   "execution_count": 7,
   "id": "f3c13f74",
   "metadata": {
    "execution": {
     "iopub.execute_input": "2024-01-06T06:56:46.295697Z",
     "iopub.status.busy": "2024-01-06T06:56:46.295349Z",
     "iopub.status.idle": "2024-01-06T06:56:49.147658Z",
     "shell.execute_reply": "2024-01-06T06:56:49.146874Z"
    },
    "papermill": {
     "duration": 2.866803,
     "end_time": "2024-01-06T06:56:49.150174",
     "exception": false,
     "start_time": "2024-01-06T06:56:46.283371",
     "status": "completed"
    },
    "tags": []
   },
   "outputs": [],
   "source": [
    "t1 = pd.read_csv('/kaggle/input/llm-7-prompt-training-dataset/train_essays_7_prompts.csv')\n",
    "t2 = pd.read_csv('/kaggle/input/llm-7-prompt-training-dataset/train_essays_7_prompts_v2.csv')\n",
    "t3 = pd.read_csv('/kaggle/input/llm-7-prompt-training-dataset/train_essays_RDizzl3_seven_v1.csv')\n",
    "t4 = pd.read_csv('/kaggle/input/llm-7-prompt-training-dataset/train_essays_RDizzl3_seven_v2.csv')\n",
    "\n",
    "temp5 = pd.concat([t1, t2, t3, t4], ignore_index=True)\n",
    "temp5.rename(columns={\"label\": \"generated\"}, inplace=True)\n",
    "temp5.dropna(inplace=True)"
   ]
  },
  {
   "cell_type": "code",
   "execution_count": 8,
   "id": "344d2bb3",
   "metadata": {
    "execution": {
     "iopub.execute_input": "2024-01-06T06:56:49.170931Z",
     "iopub.status.busy": "2024-01-06T06:56:49.170569Z",
     "iopub.status.idle": "2024-01-06T06:56:51.300281Z",
     "shell.execute_reply": "2024-01-06T06:56:51.299432Z"
    },
    "papermill": {
     "duration": 2.142989,
     "end_time": "2024-01-06T06:56:51.302934",
     "exception": false,
     "start_time": "2024-01-06T06:56:49.159945",
     "status": "completed"
    },
    "tags": []
   },
   "outputs": [],
   "source": [
    "temp6 = pd.read_csv('/kaggle/input/daigt-v2-train-dataset/train_v2_drcat_02.csv')\n",
    "temp6 = temp6[[\"text\", \"label\"]].copy()\n",
    "temp6.rename(columns={\"label\": \"generated\"}, inplace=True)\n",
    "temp6.dropna(inplace=True)"
   ]
  },
  {
   "cell_type": "markdown",
   "id": "b4b59117",
   "metadata": {
    "papermill": {
     "duration": 0.010133,
     "end_time": "2024-01-06T06:56:51.323975",
     "exception": false,
     "start_time": "2024-01-06T06:56:51.313842",
     "status": "completed"
    },
    "tags": []
   },
   "source": [
    "## Remove Duplicate Rows"
   ]
  },
  {
   "cell_type": "code",
   "execution_count": 9,
   "id": "bc8a8fde",
   "metadata": {
    "execution": {
     "iopub.execute_input": "2024-01-06T06:56:51.346441Z",
     "iopub.status.busy": "2024-01-06T06:56:51.345714Z",
     "iopub.status.idle": "2024-01-06T06:56:55.659778Z",
     "shell.execute_reply": "2024-01-06T06:56:55.658803Z"
    },
    "papermill": {
     "duration": 4.32789,
     "end_time": "2024-01-06T06:56:55.662076",
     "exception": false,
     "start_time": "2024-01-06T06:56:51.334186",
     "status": "completed"
    },
    "tags": []
   },
   "outputs": [],
   "source": [
    "data = pd.concat([data, temp1, temp2, temp3, temp4, temp5, temp6], ignore_index=True)\n",
    "data.drop_duplicates(inplace=True,ignore_index=True)"
   ]
  },
  {
   "cell_type": "code",
   "execution_count": 10,
   "id": "84cc90af",
   "metadata": {
    "execution": {
     "iopub.execute_input": "2024-01-06T06:56:55.684083Z",
     "iopub.status.busy": "2024-01-06T06:56:55.683400Z",
     "iopub.status.idle": "2024-01-06T06:56:55.702850Z",
     "shell.execute_reply": "2024-01-06T06:56:55.701883Z"
    },
    "papermill": {
     "duration": 0.032665,
     "end_time": "2024-01-06T06:56:55.705063",
     "exception": false,
     "start_time": "2024-01-06T06:56:55.672398",
     "status": "completed"
    },
    "tags": []
   },
   "outputs": [
    {
     "data": {
      "text/plain": [
       "generated\n",
       "0.0    320562\n",
       "1.0    201468\n",
       "Name: count, dtype: int64"
      ]
     },
     "execution_count": 10,
     "metadata": {},
     "output_type": "execute_result"
    }
   ],
   "source": [
    "data[\"generated\"].value_counts()"
   ]
  },
  {
   "cell_type": "code",
   "execution_count": 11,
   "id": "63dc75e7",
   "metadata": {
    "execution": {
     "iopub.execute_input": "2024-01-06T06:56:55.725401Z",
     "iopub.status.busy": "2024-01-06T06:56:55.725117Z",
     "iopub.status.idle": "2024-01-06T06:56:55.966246Z",
     "shell.execute_reply": "2024-01-06T06:56:55.964957Z"
    },
    "papermill": {
     "duration": 0.255574,
     "end_time": "2024-01-06T06:56:55.970043",
     "exception": false,
     "start_time": "2024-01-06T06:56:55.714469",
     "status": "completed"
    },
    "tags": []
   },
   "outputs": [
    {
     "data": {
      "image/png": "[encoded data removed]",
      "text/plain": [
       "<Figure size 640x480 with 1 Axes>"
      ]
     },
     "metadata": {},
     "output_type": "display_data"
    }
   ],
   "source": [
    "import matplotlib.pyplot as plt\n",
    "data['generated'].value_counts().plot(kind=\"pie\",autopct=\"%.1f%%\")\n",
    "plt.title(\"Generated and Human Written Distribution\")\n",
    "plt.show()"
   ]
  },
  {
   "cell_type": "markdown",
   "id": "c740b8ea",
   "metadata": {
    "papermill": {
     "duration": 0.023082,
     "end_time": "2024-01-06T06:56:56.016532",
     "exception": false,
     "start_time": "2024-01-06T06:56:55.993450",
     "status": "completed"
    },
    "tags": []
   },
   "source": [
    "### Balancing the Data"
   ]
  },
  {
   "cell_type": "code",
   "execution_count": 12,
   "id": "2bdec01b",
   "metadata": {
    "execution": {
     "iopub.execute_input": "2024-01-06T06:56:56.042101Z",
     "iopub.status.busy": "2024-01-06T06:56:56.041445Z",
     "iopub.status.idle": "2024-01-06T06:56:56.068698Z",
     "shell.execute_reply": "2024-01-06T06:56:56.067620Z"
    },
    "papermill": {
     "duration": 0.040738,
     "end_time": "2024-01-06T06:56:56.070767",
     "exception": false,
     "start_time": "2024-01-06T06:56:56.030029",
     "status": "completed"
    },
    "tags": []
   },
   "outputs": [
    {
     "data": {
      "text/plain": [
       "(320562, 2)"
      ]
     },
     "execution_count": 12,
     "metadata": {},
     "output_type": "execute_result"
    }
   ],
   "source": [
    "data_human = data[data[\"generated\"]==0]\n",
    "data_human.shape"
   ]
  },
  {
   "cell_type": "code",
   "execution_count": 13,
   "id": "92abd43b",
   "metadata": {
    "execution": {
     "iopub.execute_input": "2024-01-06T06:56:56.092648Z",
     "iopub.status.busy": "2024-01-06T06:56:56.092349Z",
     "iopub.status.idle": "2024-01-06T06:56:56.114328Z",
     "shell.execute_reply": "2024-01-06T06:56:56.113264Z"
    },
    "papermill": {
     "duration": 0.035233,
     "end_time": "2024-01-06T06:56:56.116440",
     "exception": false,
     "start_time": "2024-01-06T06:56:56.081207",
     "status": "completed"
    },
    "tags": []
   },
   "outputs": [
    {
     "data": {
      "text/plain": [
       "(201468, 2)"
      ]
     },
     "execution_count": 13,
     "metadata": {},
     "output_type": "execute_result"
    }
   ],
   "source": [
    "data_ai = data[data[\"generated\"]==1]\n",
    "data_ai.shape"
   ]
  },
  {
   "cell_type": "code",
   "execution_count": 14,
   "id": "928db006",
   "metadata": {
    "execution": {
     "iopub.execute_input": "2024-01-06T06:56:56.138243Z",
     "iopub.status.busy": "2024-01-06T06:56:56.137950Z",
     "iopub.status.idle": "2024-01-06T06:56:56.179863Z",
     "shell.execute_reply": "2024-01-06T06:56:56.178949Z"
    },
    "papermill": {
     "duration": 0.054865,
     "end_time": "2024-01-06T06:56:56.181911",
     "exception": false,
     "start_time": "2024-01-06T06:56:56.127046",
     "status": "completed"
    },
    "tags": []
   },
   "outputs": [
    {
     "data": {
      "text/plain": [
       "(201468, 2)"
      ]
     },
     "execution_count": 14,
     "metadata": {},
     "output_type": "execute_result"
    }
   ],
   "source": [
    "data_human = data_human.sample(data_ai.shape[0])\n",
    "data_human.shape"
   ]
  },
  {
   "cell_type": "code",
   "execution_count": 15,
   "id": "504af7c3",
   "metadata": {
    "execution": {
     "iopub.execute_input": "2024-01-06T06:56:56.204341Z",
     "iopub.status.busy": "2024-01-06T06:56:56.204001Z",
     "iopub.status.idle": "2024-01-06T06:56:56.231411Z",
     "shell.execute_reply": "2024-01-06T06:56:56.230437Z"
    },
    "papermill": {
     "duration": 0.040907,
     "end_time": "2024-01-06T06:56:56.233521",
     "exception": false,
     "start_time": "2024-01-06T06:56:56.192614",
     "status": "completed"
    },
    "tags": []
   },
   "outputs": [
    {
     "data": {
      "text/plain": [
       "(402936, 2)"
      ]
     },
     "execution_count": 15,
     "metadata": {},
     "output_type": "execute_result"
    }
   ],
   "source": [
    "data = pd.concat([data_human, data_ai])\n",
    "data.shape"
   ]
  },
  {
   "cell_type": "code",
   "execution_count": 16,
   "id": "bdae7850",
   "metadata": {
    "execution": {
     "iopub.execute_input": "2024-01-06T06:56:56.256531Z",
     "iopub.status.busy": "2024-01-06T06:56:56.256224Z",
     "iopub.status.idle": "2024-01-06T06:56:56.360540Z",
     "shell.execute_reply": "2024-01-06T06:56:56.359580Z"
    },
    "papermill": {
     "duration": 0.121259,
     "end_time": "2024-01-06T06:56:56.365857",
     "exception": false,
     "start_time": "2024-01-06T06:56:56.244598",
     "status": "completed"
    },
    "tags": []
   },
   "outputs": [
    {
     "data": {
      "image/png": "[encoded data removed]",
      "text/plain": [
       "<Figure size 640x480 with 1 Axes>"
      ]
     },
     "metadata": {},
     "output_type": "display_data"
    }
   ],
   "source": [
    "import matplotlib.pyplot as plt\n",
    "data['generated'].value_counts().plot(kind=\"pie\",autopct=\"%.1f%%\")\n",
    "plt.title(\"Generated and Human Written Distribution\")\n",
    "plt.show()"
   ]
  },
  {
   "cell_type": "markdown",
   "id": "98b20201",
   "metadata": {
    "papermill": {
     "duration": 0.024481,
     "end_time": "2024-01-06T06:56:56.416219",
     "exception": false,
     "start_time": "2024-01-06T06:56:56.391738",
     "status": "completed"
    },
    "tags": []
   },
   "source": [
    "# Building the Model"
   ]
  },
  {
   "cell_type": "code",
   "execution_count": 17,
   "id": "cd74ca03",
   "metadata": {
    "execution": {
     "iopub.execute_input": "2024-01-06T06:56:56.468307Z",
     "iopub.status.busy": "2024-01-06T06:56:56.467617Z",
     "iopub.status.idle": "2024-01-06T06:57:15.435457Z",
     "shell.execute_reply": "2024-01-06T06:57:15.434657Z"
    },
    "papermill": {
     "duration": 18.996213,
     "end_time": "2024-01-06T06:57:15.437937",
     "exception": false,
     "start_time": "2024-01-06T06:56:56.441724",
     "status": "completed"
    },
    "tags": []
   },
   "outputs": [
    {
     "name": "stderr",
     "output_type": "stream",
     "text": [
      "/opt/conda/lib/python3.10/site-packages/scipy/__init__.py:146: UserWarning: A NumPy version >=1.16.5 and <1.23.0 is required for this version of SciPy (detected version 1.24.3\n",
      "  warnings.warn(f\"A NumPy version >={np_minversion} and <{np_maxversion}\"\n"
     ]
    }
   ],
   "source": [
    "import tensorflow as tf\n",
    "import tensorflow_hub as hub\n",
    "import tensorflow_text as text"
   ]
  },
  {
   "cell_type": "code",
   "execution_count": 18,
   "id": "3cc70d80",
   "metadata": {
    "execution": {
     "iopub.execute_input": "2024-01-06T06:57:15.464434Z",
     "iopub.status.busy": "2024-01-06T06:57:15.463453Z",
     "iopub.status.idle": "2024-01-06T06:57:16.893099Z",
     "shell.execute_reply": "2024-01-06T06:57:16.892249Z"
    },
    "papermill": {
     "duration": 1.445277,
     "end_time": "2024-01-06T06:57:16.895626",
     "exception": false,
     "start_time": "2024-01-06T06:57:15.450349",
     "status": "completed"
    },
    "tags": []
   },
   "outputs": [],
   "source": [
    "from sklearn.model_selection import train_test_split\n",
    "x_train,x_test,y_train,y_test=train_test_split(data.text, data.generated, test_size=0.1, shuffle=True)"
   ]
  },
  {
   "cell_type": "markdown",
   "id": "246a10d4",
   "metadata": {
    "papermill": {
     "duration": 0.011355,
     "end_time": "2024-01-06T06:57:16.971694",
     "exception": false,
     "start_time": "2024-01-06T06:57:16.960339",
     "status": "completed"
    },
    "tags": []
   },
   "source": [
    "### Bert Model"
   ]
  },
  {
   "cell_type": "code",
   "execution_count": 19,
   "id": "c3876da9",
   "metadata": {
    "execution": {
     "iopub.execute_input": "2024-01-06T06:57:16.996208Z",
     "iopub.status.busy": "2024-01-06T06:57:16.995276Z",
     "iopub.status.idle": "2024-01-06T06:57:16.999956Z",
     "shell.execute_reply": "2024-01-06T06:57:16.999026Z"
    },
    "papermill": {
     "duration": 0.019073,
     "end_time": "2024-01-06T06:57:17.001945",
     "exception": false,
     "start_time": "2024-01-06T06:57:16.982872",
     "status": "completed"
    },
    "tags": []
   },
   "outputs": [],
   "source": [
    "model_path =\"/kaggle/input/bert/tensorflow2/bert-en-uncased-l-12-h-768-a-12/2\"\n",
    "preprocess_path = \"/kaggle/input/bert/tensorflow2/en-cased-preprocess/3\""
   ]
  },
  {
   "cell_type": "code",
   "execution_count": 20,
   "id": "1e079d89",
   "metadata": {
    "execution": {
     "iopub.execute_input": "2024-01-06T06:57:17.025737Z",
     "iopub.status.busy": "2024-01-06T06:57:17.025343Z",
     "iopub.status.idle": "2024-01-06T06:57:21.155448Z",
     "shell.execute_reply": "2024-01-06T06:57:21.154471Z"
    },
    "papermill": {
     "duration": 4.144843,
     "end_time": "2024-01-06T06:57:21.158046",
     "exception": false,
     "start_time": "2024-01-06T06:57:17.013203",
     "status": "completed"
    },
    "tags": []
   },
   "outputs": [],
   "source": [
    "text_input = tf.keras.layers.Input(shape=(), dtype=tf.string)\n",
    "preprocessor = hub.KerasLayer(preprocess_path)\n",
    "encoder_inputs  = preprocessor(text_input)"
   ]
  },
  {
   "cell_type": "code",
   "execution_count": 21,
   "id": "0f5ae681",
   "metadata": {
    "execution": {
     "iopub.execute_input": "2024-01-06T06:57:21.183923Z",
     "iopub.status.busy": "2024-01-06T06:57:21.182898Z",
     "iopub.status.idle": "2024-01-06T06:57:35.968829Z",
     "shell.execute_reply": "2024-01-06T06:57:35.967816Z"
    },
    "papermill": {
     "duration": 14.801175,
     "end_time": "2024-01-06T06:57:35.971305",
     "exception": false,
     "start_time": "2024-01-06T06:57:21.170130",
     "status": "completed"
    },
    "tags": []
   },
   "outputs": [],
   "source": [
    "encoder = hub.KerasLayer(model_path,trainable=True)\n",
    "outputs = encoder(encoder_inputs)\n",
    "pooled_output = outputs['pooled_output'] \n",
    "sequence_output = outputs[\"sequence_output\"]"
   ]
  },
  {
   "cell_type": "code",
   "execution_count": 22,
   "id": "aafe43aa",
   "metadata": {
    "execution": {
     "iopub.execute_input": "2024-01-06T06:57:35.994334Z",
     "iopub.status.busy": "2024-01-06T06:57:35.993996Z",
     "iopub.status.idle": "2024-01-06T06:57:36.168937Z",
     "shell.execute_reply": "2024-01-06T06:57:36.167963Z"
    },
    "papermill": {
     "duration": 0.19417,
     "end_time": "2024-01-06T06:57:36.176416",
     "exception": false,
     "start_time": "2024-01-06T06:57:35.982246",
     "status": "completed"
    },
    "tags": []
   },
   "outputs": [
    {
     "name": "stdout",
     "output_type": "stream",
     "text": [
      "Model: \"model\"\n",
      "__________________________________________________________________________________________________\n",
      " Layer (type)                Output Shape                 Param #   Connected to                  \n",
      "==================================================================================================\n",
      " input_1 (InputLayer)        [(None,)]                    0         []                            \n",
      "                                                                                                  \n",
      " keras_layer (KerasLayer)    {'input_word_ids': (None,    0         ['input_1[0][0]']             \n",
      "                             128),                                                                \n",
      "                              'input_mask': (None, 128)                                           \n",
      "                             , 'input_type_ids': (None,                                           \n",
      "                              128)}                                                               \n",
      "                                                                                                  \n",
      " keras_layer_1 (KerasLayer)  {'pooled_output': (None, 7   1094822   ['keras_layer[0][0]',         \n",
      "                             68),                         41         'keras_layer[0][1]',         \n",
      "                              'encoder_outputs': [(None              'keras_layer[0][2]']         \n",
      "                             , 128, 768),                                                         \n",
      "                              (None, 128, 768),                                                   \n",
      "                              (None, 128, 768),                                                   \n",
      "                              (None, 128, 768),                                                   \n",
      "                              (None, 128, 768),                                                   \n",
      "                              (None, 128, 768),                                                   \n",
      "                              (None, 128, 768),                                                   \n",
      "                              (None, 128, 768),                                                   \n",
      "                              (None, 128, 768),                                                   \n",
      "                              (None, 128, 768),                                                   \n",
      "                              (None, 128, 768),                                                   \n",
      "                              (None, 128, 768)],                                                  \n",
      "                              'sequence_output': (None,                                           \n",
      "                              128, 768),                                                          \n",
      "                              'default': (None, 768)}                                             \n",
      "                                                                                                  \n",
      " dropout1 (Dropout)          (None, 768)                  0         ['keras_layer_1[0][13]']      \n",
      "                                                                                                  \n",
      " dense (Dense)               (None, 64)                   49216     ['dropout1[0][0]']            \n",
      "                                                                                                  \n",
      " dense_1 (Dense)             (None, 32)                   2080      ['dense[0][0]']               \n",
      "                                                                                                  \n",
      " output (Dense)              (None, 1)                    33        ['dense_1[0][0]']             \n",
      "                                                                                                  \n",
      "==================================================================================================\n",
      "Total params: 109533570 (417.84 MB)\n",
      "Trainable params: 109533569 (417.84 MB)\n",
      "Non-trainable params: 1 (1.00 Byte)\n",
      "__________________________________________________________________________________________________\n"
     ]
    }
   ],
   "source": [
    "dropout = tf.keras.layers.Dropout(0.1, name=\"dropout1\")(pooled_output)\n",
    "dense_2 = tf.keras.layers.Dense(64, activation='relu')(dropout)\n",
    "dense_3 = tf.keras.layers.Dense(32, activation='relu')(dense_2)\n",
    "\n",
    "dense_out = tf.keras.layers.Dense(1, activation='sigmoid', name='output')(dense_3)\n",
    "model = tf.keras.Model(inputs=text_input, outputs=dense_out)\n",
    "model.summary()"
   ]
  },
  {
   "cell_type": "code",
   "execution_count": 23,
   "id": "61c23a79",
   "metadata": {
    "execution": {
     "iopub.execute_input": "2024-01-06T06:57:36.208010Z",
     "iopub.status.busy": "2024-01-06T06:57:36.207621Z",
     "iopub.status.idle": "2024-01-06T10:13:07.627202Z",
     "shell.execute_reply": "2024-01-06T10:13:07.626181Z"
    },
    "papermill": {
     "duration": 11731.438367,
     "end_time": "2024-01-06T10:13:07.629677",
     "exception": false,
     "start_time": "2024-01-06T06:57:36.191310",
     "status": "completed"
    },
    "tags": []
   },
   "outputs": [
    {
     "name": "stdout",
     "output_type": "stream",
     "text": [
      "45331/45331 [==============================] - 11713s 257ms/step - loss: 0.1280 - acc: 0.9498 - val_loss: 0.0941 - val_acc: 0.9642\n"
     ]
    }
   ],
   "source": [
    "model.compile(optimizer=tf.keras.optimizers.Adam(learning_rate=1e-6),\n",
    "              loss='binary_crossentropy',\n",
    "              metrics=[\"acc\"])\n",
    "\n",
    "checkpoint_filepath = 'checkpoint.hdf5'\n",
    "metric = 'val_accuracy'\n",
    "callback_list = tf.keras.callbacks.ModelCheckpoint(filepath=checkpoint_filepath, monitor=metric,\n",
    "                    verbose=2, save_best_only=True, mode='max')\n",
    "history = model.fit(x_train, y_train , batch_size=8, callbacks=[callback_list],epochs=1 , validation_data=(x_test, y_test))\n",
    "# model.load_weights(checkpoint_filepath)\n",
    "model.save(\"model-bert\")"
   ]
  },
  {
   "cell_type": "code",
   "execution_count": 24,
   "id": "b8aa44b6",
   "metadata": {
    "execution": {
     "iopub.execute_input": "2024-01-06T10:13:15.490593Z",
     "iopub.status.busy": "2024-01-06T10:13:15.490194Z",
     "iopub.status.idle": "2024-01-06T11:26:26.467945Z",
     "shell.execute_reply": "2024-01-06T11:26:26.466957Z"
    },
    "papermill": {
     "duration": 4394.871892,
     "end_time": "2024-01-06T11:26:26.470038",
     "exception": false,
     "start_time": "2024-01-06T10:13:11.598146",
     "status": "completed"
    },
    "tags": []
   },
   "outputs": [
    {
     "name": "stdout",
     "output_type": "stream",
     "text": [
      "11333/11333 [==============================] - 3952s 349ms/step - loss: 0.0834 - acc: 0.9678\n",
      "Accuracy on Train data: 0.9678443074226379\n",
      "1260/1260 [==============================] - 439s 348ms/step - loss: 0.0941 - acc: 0.9642\n",
      "Accuracy on Test data: 0.9642378687858582\n"
     ]
    }
   ],
   "source": [
    "loss , acc = model.evaluate(x_train, y_train)\n",
    "print(\"Accuracy on Train data:\",acc)\n",
    "loss , acc = model.evaluate(x_test, y_test)\n",
    "print(\"Accuracy on Test data:\",acc)"
   ]
  },
  {
   "cell_type": "code",
   "execution_count": 25,
   "id": "6358e399",
   "metadata": {
    "execution": {
     "iopub.execute_input": "2024-01-06T11:26:36.241537Z",
     "iopub.status.busy": "2024-01-06T11:26:36.241158Z",
     "iopub.status.idle": "2024-01-06T11:33:53.087720Z",
     "shell.execute_reply": "2024-01-06T11:33:53.086711Z"
    },
    "papermill": {
     "duration": 441.755172,
     "end_time": "2024-01-06T11:33:53.090237",
     "exception": false,
     "start_time": "2024-01-06T11:26:31.335065",
     "status": "completed"
    },
    "tags": []
   },
   "outputs": [
    {
     "name": "stdout",
     "output_type": "stream",
     "text": [
      "1260/1260 [==============================] - 436s 345ms/step\n"
     ]
    }
   ],
   "source": [
    "y_pred_prob = model.predict(x_test)\n",
    "y_pred_prob = y_pred_prob[:, 0]"
   ]
  },
  {
   "cell_type": "code",
   "execution_count": 26,
   "id": "be36e40a",
   "metadata": {
    "execution": {
     "iopub.execute_input": "2024-01-06T11:34:03.080474Z",
     "iopub.status.busy": "2024-01-06T11:34:03.080126Z",
     "iopub.status.idle": "2024-01-06T11:34:03.229120Z",
     "shell.execute_reply": "2024-01-06T11:34:03.228143Z"
    },
    "papermill": {
     "duration": 5.059625,
     "end_time": "2024-01-06T11:34:03.231374",
     "exception": false,
     "start_time": "2024-01-06T11:33:58.171749",
     "status": "completed"
    },
    "tags": []
   },
   "outputs": [
    {
     "name": "stdout",
     "output_type": "stream",
     "text": [
      "Confusion Matrix:\n",
      "[[18828  1339]\n",
      " [  102 20025]]\n",
      "\n",
      "Classification Report:\n",
      "              precision    recall  f1-score   support\n",
      "\n",
      "         0.0       0.99      0.93      0.96     20167\n",
      "         1.0       0.94      0.99      0.97     20127\n",
      "\n",
      "    accuracy                           0.96     40294\n",
      "   macro avg       0.97      0.96      0.96     40294\n",
      "weighted avg       0.97      0.96      0.96     40294\n",
      "\n"
     ]
    }
   ],
   "source": [
    "y_pred = np.where(y_pred_prob <= 0.5, 0, 1)\n",
    "\n",
    "from sklearn.metrics import confusion_matrix, classification_report\n",
    "\n",
    "cm = confusion_matrix(y_test, y_pred)\n",
    "\n",
    "# Print the confusion matrix\n",
    "print(\"Confusion Matrix:\")\n",
    "print(cm)\n",
    "\n",
    "# Classification report\n",
    "print(\"\\nClassification Report:\")\n",
    "print(classification_report(y_test, y_pred))\n"
   ]
  },
  {
   "cell_type": "code",
   "execution_count": 27,
   "id": "76eb6f2d",
   "metadata": {
    "execution": {
     "iopub.execute_input": "2024-01-06T11:34:13.482250Z",
     "iopub.status.busy": "2024-01-06T11:34:13.481913Z",
     "iopub.status.idle": "2024-01-06T11:34:14.007791Z",
     "shell.execute_reply": "2024-01-06T11:34:14.006702Z"
    },
    "papermill": {
     "duration": 5.604429,
     "end_time": "2024-01-06T11:34:14.010909",
     "exception": false,
     "start_time": "2024-01-06T11:34:08.406480",
     "status": "completed"
    },
    "tags": []
   },
   "outputs": [
    {
     "data": {
      "image/png": "[encoded data removed]",
      "text/plain": [
       "<Figure size 640x480 with 1 Axes>"
      ]
     },
     "metadata": {},
     "output_type": "display_data"
    }
   ],
   "source": [
    "import seaborn as sns\n",
    "import matplotlib.pyplot as plt\n",
    "\n",
    "sns.heatmap(cm, annot=True, fmt='d', cmap='Blues', cbar=False,\n",
    "            xticklabels=['Predicted 0', 'Predicted 1'],\n",
    "            yticklabels=['Actual 0', 'Actual 1'])\n",
    "\n",
    "plt.title('Confusion Matrix:')\n",
    "plt.xlabel('Predicted')\n",
    "plt.ylabel('Actual')\n",
    "plt.show()"
   ]
  },
  {
   "cell_type": "code",
   "execution_count": 28,
   "id": "abd05a8a",
   "metadata": {
    "execution": {
     "iopub.execute_input": "2024-01-06T11:34:24.146520Z",
     "iopub.status.busy": "2024-01-06T11:34:24.145684Z",
     "iopub.status.idle": "2024-01-06T11:34:24.158826Z",
     "shell.execute_reply": "2024-01-06T11:34:24.158007Z"
    },
    "papermill": {
     "duration": 5.113475,
     "end_time": "2024-01-06T11:34:24.160984",
     "exception": false,
     "start_time": "2024-01-06T11:34:19.047509",
     "status": "completed"
    },
    "tags": []
   },
   "outputs": [],
   "source": [
    "test_df = pd.read_csv('/kaggle/input/llm-detect-ai-generated-text/test_essays.csv')\n",
    "test_data = test_df[[\"text\"]].copy()"
   ]
  },
  {
   "cell_type": "code",
   "execution_count": 29,
   "id": "36fbdec6",
   "metadata": {
    "execution": {
     "iopub.execute_input": "2024-01-06T11:34:34.024110Z",
     "iopub.status.busy": "2024-01-06T11:34:34.023745Z",
     "iopub.status.idle": "2024-01-06T11:34:34.157569Z",
     "shell.execute_reply": "2024-01-06T11:34:34.156596Z"
    },
    "papermill": {
     "duration": 5.072446,
     "end_time": "2024-01-06T11:34:34.159781",
     "exception": false,
     "start_time": "2024-01-06T11:34:29.087335",
     "status": "completed"
    },
    "tags": []
   },
   "outputs": [
    {
     "name": "stdout",
     "output_type": "stream",
     "text": [
      "1/1 [==============================] - 0s 50ms/step\n"
     ]
    }
   ],
   "source": [
    "output_data = model.predict(test_data['text'])\n",
    "output_data = output_data[:, 0]"
   ]
  },
  {
   "cell_type": "code",
   "execution_count": 30,
   "id": "63935562",
   "metadata": {
    "execution": {
     "iopub.execute_input": "2024-01-06T11:34:44.273865Z",
     "iopub.status.busy": "2024-01-06T11:34:44.273388Z",
     "iopub.status.idle": "2024-01-06T11:34:44.289840Z",
     "shell.execute_reply": "2024-01-06T11:34:44.289110Z"
    },
    "papermill": {
     "duration": 5.03077,
     "end_time": "2024-01-06T11:34:44.291895",
     "exception": false,
     "start_time": "2024-01-06T11:34:39.261125",
     "status": "completed"
    },
    "tags": []
   },
   "outputs": [],
   "source": [
    "output_df = pd.DataFrame({\n",
    "    \"id\": test_df[\"id\"],\n",
    "    \"generated\": output_data\n",
    "})\n",
    "output_df.to_csv('/kaggle/working/submission.csv', index=False)"
   ]
  },
  {
   "cell_type": "code",
   "execution_count": 31,
   "id": "b7767632",
   "metadata": {
    "execution": {
     "iopub.execute_input": "2024-01-06T11:34:54.309725Z",
     "iopub.status.busy": "2024-01-06T11:34:54.308530Z",
     "iopub.status.idle": "2024-01-06T11:34:54.324951Z",
     "shell.execute_reply": "2024-01-06T11:34:54.324004Z"
    },
    "papermill": {
     "duration": 5.007225,
     "end_time": "2024-01-06T11:34:54.327005",
     "exception": false,
     "start_time": "2024-01-06T11:34:49.319780",
     "status": "completed"
    },
    "tags": []
   },
   "outputs": [
    {
     "data": {
      "text/html": [
       "<div>\n",
       "<style scoped>\n",
       "    .dataframe tbody tr th:only-of-type {\n",
       "        vertical-align: middle;\n",
       "    }\n",
       "\n",
       "    .dataframe tbody tr th {\n",
       "        vertical-align: top;\n",
       "    }\n",
       "\n",
       "    .dataframe thead th {\n",
       "        text-align: right;\n",
       "    }\n",
       "</style>\n",
       "<table border=\"1\" class=\"dataframe\">\n",
       "  <thead>\n",
       "    <tr style=\"text-align: right;\">\n",
       "      <th></th>\n",
       "      <th>id</th>\n",
       "      <th>generated</th>\n",
       "    </tr>\n",
       "  </thead>\n",
       "  <tbody>\n",
       "    <tr>\n",
       "      <th>0</th>\n",
       "      <td>0000aaaa</td>\n",
       "      <td>0.975038</td>\n",
       "    </tr>\n",
       "    <tr>\n",
       "      <th>1</th>\n",
       "      <td>1111bbbb</td>\n",
       "      <td>0.914501</td>\n",
       "    </tr>\n",
       "    <tr>\n",
       "      <th>2</th>\n",
       "      <td>2222cccc</td>\n",
       "      <td>0.819576</td>\n",
       "    </tr>\n",
       "  </tbody>\n",
       "</table>\n",
       "</div>"
      ],
      "text/plain": [
       "         id  generated\n",
       "0  0000aaaa   0.975038\n",
       "1  1111bbbb   0.914501\n",
       "2  2222cccc   0.819576"
      ]
     },
     "execution_count": 31,
     "metadata": {},
     "output_type": "execute_result"
    }
   ],
   "source": [
    "output_df"
   ]
  }
 ],
 "metadata": {
  "kaggle": {
   "accelerator": "nvidiaTeslaT4",
   "dataSources": [
    {
     "databundleVersionId": 6888007,
     "sourceId": 61542,
     "sourceType": "competition"
    },
    {
     "datasetId": 3942644,
     "sourceId": 6890527,
     "sourceType": "datasetVersion"
    },
    {
     "datasetId": 3960967,
     "sourceId": 6901341,
     "sourceType": "datasetVersion"
    },
    {
     "datasetId": 4035516,
     "sourceId": 7018354,
     "sourceType": "datasetVersion"
    },
    {
     "datasetId": 4210720,
     "sourceId": 7294503,
     "sourceType": "datasetVersion"
    },
    {
     "datasetId": 3961875,
     "sourceId": 6971638,
     "sourceType": "datasetVersion"
    },
    {
     "datasetId": 4005256,
     "sourceId": 6977472,
     "sourceType": "datasetVersion"
    },
    {
     "modelInstanceId": 1844,
     "sourceId": 2529,
     "sourceType": "modelInstanceVersion"
    },
    {
     "modelInstanceId": 1910,
     "sourceId": 2644,
     "sourceType": "modelInstanceVersion"
    }
   ],
   "dockerImageVersionId": 30626,
   "isGpuEnabled": true,
   "isInternetEnabled": false,
   "language": "python",
   "sourceType": "notebook"
  },
  "kernelspec": {
   "display_name": "Python 3",
   "language": "python",
   "name": "python3"
  },
  "language_info": {
   "codemirror_mode": {
    "name": "ipython",
    "version": 3
   },
   "file_extension": ".py",
   "mimetype": "text/x-python",
   "name": "python",
   "nbconvert_exporter": "python",
   "pygments_lexer": "ipython3",
   "version": "3.10.12"
  },
  "papermill": {
   "default_parameters": {},
   "duration": 16772.447943,
   "end_time": "2024-01-06T11:35:03.024582",
   "environment_variables": {},
   "exception": null,
   "input_path": "__notebook__.ipynb",
   "output_path": "__notebook__.ipynb",
   "parameters": {},
   "start_time": "2024-01-06T06:55:30.576639",
   "version": "2.4.0"
  }
 },
 "nbformat": 4,
 "nbformat_minor": 5
}
